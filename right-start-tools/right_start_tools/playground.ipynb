{
 "cells": [
  {
   "cell_type": "code",
   "execution_count": 31,
   "metadata": {},
   "outputs": [],
   "source": [
    "from boto3.session import Session\n",
    "# import main as rst\n",
    "\n",
    "region = 'us-east-1'\n",
    "profile_name = 'cristal-management'\n",
    "# aws sso login --profile cristal-management\n",
    "session = Session(profile_name=profile_name, region_name=region)\n",
    "client = session.client('organizations') # type: ignore"
   ]
  }
 ],
 "metadata": {
  "kernelspec": {
   "display_name": ".venv",
   "language": "python",
   "name": "python3"
  },
  "language_info": {
   "codemirror_mode": {
    "name": "ipython",
    "version": 3
   },
   "file_extension": ".py",
   "mimetype": "text/x-python",
   "name": "python",
   "nbconvert_exporter": "python",
   "pygments_lexer": "ipython3",
   "version": "3.9.16"
  }
 },
 "nbformat": 4,
 "nbformat_minor": 2
}
