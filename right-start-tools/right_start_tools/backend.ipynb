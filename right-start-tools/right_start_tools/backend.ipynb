{
 "cells": [
  {
   "cell_type": "code",
   "execution_count": 3,
   "metadata": {},
   "outputs": [],
   "source": [
    "from boto3.session import Session\n",
    "# import main as rst\n",
    "\n",
    "region = 'us-east-1'\n",
    "profile_name = 'cristal-management'\n",
    "# aws sso login --profile cristal-management\n",
    "session = Session(profile_name=profile_name, region_name=region)"
   ]
  },
  {
   "cell_type": "code",
   "execution_count": 4,
   "metadata": {},
   "outputs": [],
   "source": [
    "import os\n",
    "\n",
    "def get_aws_account_id():\n",
    "    # Assuming AWS credentials are configured in the environment or via config files\n",
    "    sts_client = session.client('sts')\n",
    "    account_id = sts_client.get_caller_identity()['Account']\n",
    "    return account_id\n",
    "\n",
    "def set_tf_environment_id(aws_default_region):\n",
    "    aws_account_id = get_aws_account_id()\n",
    "    return f\"{aws_account_id}-{aws_default_region}\"\n",
    "\n",
    "# def hash_environment_id(tf_environment_id, hash_command='sha1sum'):\n",
    "#     # Use the provided hash command or default to sha1sum\n",
    "#     result = subprocess.run([hash_command], input=tf_environment_id.encode(), capture_output=True, text=True)\n",
    "#     hashed_environment_id = result.stdout.split()[0]\n",
    "#     return hashed_environment_id\n",
    "\n",
    "import hashlib\n",
    "\n",
    "def hash_environment_id(tf_environment_id):\n",
    "    # Create a SHA-1 hash object\n",
    "    hash_object = hashlib.sha1()\n",
    "    # Update the hash object with the bytes of the string, encoding needed to convert str to bytes\n",
    "    hash_object.update(tf_environment_id.encode('utf-8'))\n",
    "    # Get the hexadecimal representation of the digest\n",
    "    hashed_environment_id = hash_object.hexdigest()\n",
    "    return hashed_environment_id\n",
    "\n",
    "\n",
    "def write_backend_config(aws_default_region, hashed_environment_id):\n",
    "    backend_config = f\"\"\"terraform {{\n",
    "  backend \"s3\" {{\n",
    "    bucket         = \"terraform-state-{hashed_environment_id}\"\n",
    "    key            = \"terraform/main/main.tfstate\"\n",
    "    region         = \"{aws_default_region}\"\n",
    "    encrypt        = true\n",
    "    dynamodb_table = \"terraform-state-lock-{hashed_environment_id}\"\n",
    "  }}\n",
    "}}\n",
    "\"\"\"\n",
    "    with open(\"backend.tf\", \"w\") as f:\n",
    "        f.write(backend_config)\n",
    "\n",
    "def write_tf_backend():\n",
    "    aws_account_id = get_aws_account_id()\n",
    "    aws_default_region = os.getenv(\"AWS_DEFAULT_REGION\", region)\n",
    "    env_id = hash_environment_id(f\"{aws_account_id}-{aws_default_region}\")\n",
    "\n",
    "\n",
    "def main():\n",
    "    # Check for AWS_DEFAULT_REGION in environment variables\n",
    "    aws_default_region = os.getenv(\"AWS_DEFAULT_REGION\", region)\n",
    "    if not aws_default_region:\n",
    "        print(\"Define env variable AWS_DEFAULT_REGION (should be your region name, ex: us-east-1) and try again.\")\n",
    "        exit(1)\n",
    "\n",
    "    tf_environment_id = set_tf_environment_id(aws_default_region)\n",
    "    hashed_environment_id = hash_environment_id(tf_environment_id)\n",
    "    write_backend_config(tf_environment_id, aws_default_region, hashed_environment_id)\n",
    "\n",
    "if __name__ == \"__main__\":\n",
    "    main()\n"
   ]
  },
  {
   "cell_type": "code",
   "execution_count": null,
   "metadata": {},
   "outputs": [],
   "source": []
  }
 ],
 "metadata": {
  "kernelspec": {
   "display_name": ".venv",
   "language": "python",
   "name": "python3"
  },
  "language_info": {
   "codemirror_mode": {
    "name": "ipython",
    "version": 3
   },
   "file_extension": ".py",
   "mimetype": "text/x-python",
   "name": "python",
   "nbconvert_exporter": "python",
   "pygments_lexer": "ipython3",
   "version": "3.9.16"
  }
 },
 "nbformat": 4,
 "nbformat_minor": 2
}
